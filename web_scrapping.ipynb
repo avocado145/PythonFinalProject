{
  "nbformat": 4,
  "nbformat_minor": 0,
  "metadata": {
    "colab": {
      "name": "web_scrapping.ipynb",
      "provenance": [],
      "authorship_tag": "ABX9TyPOdILoxu4T+Y1jLrb7BGOr",
      "include_colab_link": true
    },
    "kernelspec": {
      "name": "python3",
      "display_name": "Python 3"
    },
    "language_info": {
      "name": "python"
    }
  },
  "cells": [
    {
      "cell_type": "markdown",
      "metadata": {
        "id": "view-in-github",
        "colab_type": "text"
      },
      "source": [
        "<a href=\"https://colab.research.google.com/github/avocado145/PythonFinalProject/blob/main/web_scrapping.ipynb\" target=\"_parent\"><img src=\"https://colab.research.google.com/assets/colab-badge.svg\" alt=\"Open In Colab\"/></a>"
      ]
    },
    {
      "cell_type": "markdown",
      "source": [
        "Так как в нашей изначальной выборке, которую мы выгрузили с сайта kaggle.com есть информация лишь на момент 2018 года, заметим, что там совершенно нет московских ресторанов. Однако, за последний год Россия сильно прогрессировала в этом отношении и немало денег было вложено с нашей стороны, для того чтобы Мишленовская комиссия решилась приехать в Москву на \"инспекцию\". Именно поэтому в данном блокноте давайте воспользуемся вебскреппингом и найдем все те рестораны, которым присвоили звезду(-ы) Мишлен\n"
      ],
      "metadata": {
        "id": "HmmlDWB9tBT2"
      }
    },
    {
      "cell_type": "code",
      "execution_count": 1,
      "metadata": {
        "id": "s9TH5t-SrdFv"
      },
      "outputs": [],
      "source": [
        "import requests\n",
        "from bs4 import BeautifulSoup"
      ]
    },
    {
      "cell_type": "markdown",
      "source": [
        " Зайдем на сайт с статьей о новоиспеченных Мишленовских наградах в Московских ресторанах"
      ],
      "metadata": {
        "id": "V1VgsZ5tsWY-"
      }
    },
    {
      "cell_type": "code",
      "source": [
        "r = requests.get(\"https://www.rbth.com/russian-kitchen/334345-9-moscow-restaurants-michelin-guide-2022\")\n",
        "soup = BeautifulSoup(r.text)"
      ],
      "metadata": {
        "id": "SaHA6-yWrmEI"
      },
      "execution_count": 2,
      "outputs": []
    },
    {
      "cell_type": "markdown",
      "source": [
        "С помощью этого сайта и библиотеки BeautifulSoup найдем имена всех ресторанов, которым присудила награды комиссия \"Мишленовских\" экспертов"
      ],
      "metadata": {
        "id": "nSdBOVSisg2R"
      }
    },
    {
      "cell_type": "code",
      "source": [
        "restaurants = soup.find_all(\"h3\")\n",
        "awards = soup.find_all(\"em\")\n",
        "\n",
        "print(pd.DataFrame(awards))"
      ],
      "metadata": {
        "colab": {
          "base_uri": "https://localhost:8080/"
        },
        "id": "YJbK2mSCsBjq",
        "outputId": "d906bebe-910e-4c9b-d52d-147231b210fa"
      },
      "execution_count": 73,
      "outputs": [
        {
          "output_type": "stream",
          "name": "stdout",
          "text": [
            "                                                    0\n",
            "0   Two Michelin stars: Chef’s Table (1st floor); ...\n",
            "1                                                koji\n",
            "2                                            kombucha\n",
            "3   Two Michelin Stars, Green Michelin Star, Best ...\n",
            "4                                   One Michelin star\n",
            "5                                            okroshka\n",
            "6                                   One Michelin star\n",
            "7                                   One Michelin star\n",
            "8                                   One Michelin star\n",
            "9                                             pelmeni\n",
            "10                                  One Michelin star\n",
            "11                                  One Michelin star\n",
            "12                                      Très français\n",
            "13             One Michelin star, Green Michelin star\n",
            "14                                             beurre\n",
            "15                                           noisette\n",
            "16  Average-check information comes from the Miche...\n"
          ]
        }
      ]
    },
    {
      "cell_type": "code",
      "source": [
        "awards_1 = []\n",
        "for z in awards:\n",
        "  for i in z:\n",
        "    awards_1.append(i)"
      ],
      "metadata": {
        "id": "gKSu-hn31dZK"
      },
      "execution_count": 78,
      "outputs": []
    },
    {
      "cell_type": "code",
      "source": [
        "restaurants_edited = []\n",
        "for i in restaurants:\n",
        "  for x in i:\n",
        "    restaurants_edited.append(x)\n",
        "restaurants_edited = restaurants_edited[0:-2]\n",
        "print(restaurants_edited)"
      ],
      "metadata": {
        "colab": {
          "base_uri": "https://localhost:8080/"
        },
        "id": "soFLGmryzTY4",
        "outputId": "714bf770-c1e3-4c4f-d766-bc8a483f7b6a"
      },
      "execution_count": 91,
      "outputs": [
        {
          "output_type": "stream",
          "name": "stdout",
          "text": [
            "['1. Artest', '2. Twins Garden', '3. White Rabbit', '4. Selfie', '5. Sakhalin', '6. Beluga', '7. Savva', '8. Grand Cru', '9. Biologie']\n"
          ]
        }
      ]
    },
    {
      "cell_type": "code",
      "source": [
        "import pandas as pd"
      ],
      "metadata": {
        "id": "IbVMkmAIwoUX"
      },
      "execution_count": 18,
      "outputs": []
    },
    {
      "cell_type": "markdown",
      "source": [
        "Нашли все рестораны Москвы, которым присудили награды Мишленовская комиссия с помощью веб-скраппинга! Также в табличке вывели сами награды"
      ],
      "metadata": {
        "id": "NeqawggX3maq"
      }
    },
    {
      "cell_type": "code",
      "source": [
        "awards_edited = []\n",
        "for i in awards_1:\n",
        "  for x in i:\n",
        "    if (x[0:4] == 'Two'):\n",
        "      awards_edited.append(x)\n",
        "for i in range(len(awards_1)):\n",
        "  if (i == 0 or i == 3 or i == 4 or i == 6 or i == 7 or i == 8 or i == 10 or i == 11 or i == 13):\n",
        "    awards_edited.append(awards_1[i])\n",
        "\n",
        "\n",
        "df_moscow = pd.DataFrame({'restaurant':restaurants_edited, 'award':awards_edited})\n",
        "print(df_moscow)\n"
      ],
      "metadata": {
        "colab": {
          "base_uri": "https://localhost:8080/"
        },
        "id": "WNg8VX0IwLhF",
        "outputId": "74469567-a51b-4da7-dc6c-b41442ca4af7"
      },
      "execution_count": 92,
      "outputs": [
        {
          "output_type": "stream",
          "name": "stdout",
          "text": [
            "        restaurant                                              award\n",
            "0        1. Artest  Two Michelin stars: Chef’s Table (1st floor); ...\n",
            "1  2. Twins Garden  Two Michelin Stars, Green Michelin Star, Best ...\n",
            "2  3. White Rabbit                                  One Michelin star\n",
            "3        4. Selfie                                  One Michelin star\n",
            "4      5. Sakhalin                                  One Michelin star\n",
            "5        6. Beluga                                  One Michelin star\n",
            "6         7. Savva                                  One Michelin star\n",
            "7     8. Grand Cru                                  One Michelin star\n",
            "8      9. Biologie             One Michelin star, Green Michelin star\n"
          ]
        }
      ]
    }
  ]
}